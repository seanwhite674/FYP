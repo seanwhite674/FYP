{
 "cells": [
  {
   "cell_type": "markdown",
   "id": "c21b595f-b6e0-4fea-895d-cc2a0cf08d33",
   "metadata": {},
   "source": [
    "# Task 1 : replicate github repo and paper Sarp showed\n",
    "# Task 2 : Write down questions"
   ]
  },
  {
   "cell_type": "code",
   "execution_count": null,
   "id": "2c73ddb7-3223-4f43-b2ea-5d52bd80918c",
   "metadata": {},
   "outputs": [],
   "source": []
  }
 ],
 "metadata": {
  "kernelspec": {
   "display_name": "Python 3 (ipykernel)",
   "language": "python",
   "name": "python3"
  },
  "language_info": {
   "codemirror_mode": {
    "name": "ipython",
    "version": 3
   },
   "file_extension": ".py",
   "mimetype": "text/x-python",
   "name": "python",
   "nbconvert_exporter": "python",
   "pygments_lexer": "ipython3",
   "version": "3.12.4"
  }
 },
 "nbformat": 4,
 "nbformat_minor": 5
}
